{
 "cells": [
  {
   "cell_type": "markdown",
   "metadata": {},
   "source": [
    "# Data Cleaning & Preparation"
   ]
  },
  {
   "cell_type": "code",
   "execution_count": 46,
   "metadata": {},
   "outputs": [],
   "source": [
    "## import required modules\n",
    "import pandas as pd # imports pandas module\n",
    "import numpy as np # imports numpy module\n",
    "import matplotlib.pyplot as plt # imports matpolib pyplot module\n",
    "%matplotlib inline\n",
    "\n",
    "# import plotly modules\n",
    "import plotly.plotly as py\n",
    "import plotly.tools as tls\n",
    "import plotly.graph_objs as go\n",
    "\n",
    "# set plotly user credentials\n",
    "tls.set_credentials_file(username='kamparia', api_key='')\n",
    "\n",
    "# import plotly offline and required dependencies\n",
    "# import plotly.offline as py\n",
    "# import plotly.graph_objs as go\n",
    "# from plotly.graph_objs import *"
   ]
  },
  {
   "cell_type": "code",
   "execution_count": 47,
   "metadata": {
    "collapsed": true
   },
   "outputs": [],
   "source": [
    "## load csv data\n",
    "df = pd.read_csv('./data/raw/hotel_reviews/hotel_reviews.csv') # loads the data into a dataframe"
   ]
  },
  {
   "cell_type": "code",
   "execution_count": 48,
   "metadata": {
    "collapsed": true,
    "scrolled": true
   },
   "outputs": [],
   "source": [
    "## rename column names\n",
    "old_names = ['reviews.date', 'reviews.rating', 'reviews.title', 'reviews.text'] \n",
    "new_names = ['date', 'rating', 'title', 'text']\n",
    "df.rename(columns=dict(zip(old_names, new_names)), inplace=True)"
   ]
  },
  {
   "cell_type": "code",
   "execution_count": 49,
   "metadata": {
    "collapsed": true
   },
   "outputs": [],
   "source": [
    "## subset multiple columns of our dataframe\n",
    "df = df[['latitude', 'longitude', 'name', 'address', 'postalCode', 'categories', 'city', 'country', 'date', 'rating', 'title', 'text',]] "
   ]
  },
  {
   "cell_type": "code",
   "execution_count": 50,
   "metadata": {
    "collapsed": true
   },
   "outputs": [],
   "source": [
    "## drop rows with NAs'\n",
    "df = df[pd.notnull(df['name'])]\n",
    "df = df[pd.notnull(df['latitude'])]\n",
    "df = df[pd.notnull(df['longitude'])]\n",
    "df = df[pd.notnull(df['rating'])]\n",
    "df = df[pd.notnull(df['date'])]"
   ]
  },
  {
   "cell_type": "code",
   "execution_count": 51,
   "metadata": {
    "collapsed": true
   },
   "outputs": [],
   "source": [
    "## export cleaned data to csv\n",
    "file_name = './data/cleaned/hotel_reviews/hotel_reviews.csv'\n",
    "df.to_csv(file_name, sep=',')"
   ]
  },
  {
   "cell_type": "markdown",
   "metadata": {},
   "source": [
    "# Data Analysis & Exploration"
   ]
  },
  {
   "cell_type": "markdown",
   "metadata": {},
   "source": [
    "### Q1. Which hotel has the lowest number of reviews"
   ]
  },
  {
   "cell_type": "code",
   "execution_count": 52,
   "metadata": {},
   "outputs": [
    {
     "name": "stdout",
     "output_type": "stream",
     "text": [
      "1785 Inn\n"
     ]
    }
   ],
   "source": [
    "q1 = df.groupby('name').count().reset_index().min().iloc[0]\n",
    "print(q1)"
   ]
  },
  {
   "cell_type": "markdown",
   "metadata": {},
   "source": [
    "### Q2. Which hotel has the highest average ratings"
   ]
  },
  {
   "cell_type": "code",
   "execution_count": 53,
   "metadata": {},
   "outputs": [
    {
     "name": "stdout",
     "output_type": "stream",
     "text": [
      "Yakima Inn\n"
     ]
    }
   ],
   "source": [
    "q2 = df.groupby('name')['rating'].mean().reset_index().max().iloc[0]\n",
    "print(q2)"
   ]
  },
  {
   "cell_type": "markdown",
   "metadata": {},
   "source": [
    "### Q3. Which City has the highest number of hotels"
   ]
  },
  {
   "cell_type": "code",
   "execution_count": 54,
   "metadata": {},
   "outputs": [
    {
     "name": "stdout",
     "output_type": "stream",
     "text": [
      "Yellville\n"
     ]
    }
   ],
   "source": [
    "q3 = df.groupby(['country', 'city', 'name'])['rating'].mean().reset_index()\n",
    "q3 = df.groupby('city').count().reset_index().max().iloc[0]\n",
    "print(q3)"
   ]
  },
  {
   "cell_type": "markdown",
   "metadata": {},
   "source": [
    "### Q4. What is the relationship between total number of reviews per hotel and average rating of the hotel"
   ]
  },
  {
   "cell_type": "code",
   "execution_count": 75,
   "metadata": {},
   "outputs": [
    {
     "data": {
      "text/html": [
       "<iframe id=\"igraph\" scrolling=\"no\" style=\"border:none;\" seamless=\"seamless\" src=\"https://plot.ly/~kamparia/7.embed\" height=\"525px\" width=\"100%\"></iframe>"
      ],
      "text/plain": [
       "<plotly.tools.PlotlyDisplay object>"
      ]
     },
     "execution_count": 75,
     "metadata": {},
     "output_type": "execute_result"
    }
   ],
   "source": [
    "group_name = df.groupby(['name'])['rating'].mean().reset_index()\n",
    "\n",
    "group_count = df.groupby('name').count().reset_index()\n",
    "old_names = ['latitude'] \n",
    "new_names = ['count']\n",
    "group_count.rename(columns=dict(zip(old_names, new_names)), inplace=True)\n",
    "group_count = group_count[['name', 'count']] \n",
    "\n",
    "q4 = pd.merge(group_name, group_count, left_index=True, right_index=True)[['name_x', 'rating', 'count']] \n",
    "\n",
    "#q4.plot.scatter(x='rating', y='count') plots using matplotlip\n",
    "\n",
    "x = (q4['rating']).values.reshape((618,1))\n",
    "y = (q4['count']).values.reshape((618,1))\n",
    "\n",
    "# Create a trace\n",
    "trace = go.Scatter(\n",
    "    x = x,\n",
    "    y = y,\n",
    "    mode = 'markers'\n",
    ")\n",
    "\n",
    "data = [trace]\n",
    "\n",
    "# Plot and embed in ipython notebook!\n",
    "py.iplot(data, filename='hotels-reviews-scatter')"
   ]
  },
  {
   "cell_type": "markdown",
   "metadata": {},
   "source": [
    "### Q5. Plot a map of the hotels using latitude and longitude"
   ]
  },
  {
   "cell_type": "code",
   "execution_count": 60,
   "metadata": {},
   "outputs": [
    {
     "data": {
      "text/html": [
       "<iframe id=\"igraph\" scrolling=\"no\" style=\"border:none;\" seamless=\"seamless\" src=\"https://plot.ly/~kamparia/3.embed\" height=\"525px\" width=\"100%\"></iframe>"
      ],
      "text/plain": [
       "<plotly.tools.PlotlyDisplay object>"
      ]
     },
     "execution_count": 60,
     "metadata": {},
     "output_type": "execute_result"
    }
   ],
   "source": [
    "q5 = df.groupby(['name', 'latitude', 'longitude'])['rating'].mean().reset_index()\n",
    "lat = q5.latitude\n",
    "lon = q5.longitude\n",
    "name = q5.name\n",
    "\n",
    "mapbox_access_token = 'pk.eyJ1Ijoia2FtcGFyaWEiLCJhIjoib0JLTExtSSJ9.6ahf835RV3kBUnC3cQ-SnA'\n",
    "data = Data([\n",
    "    Scattermapbox(\n",
    "        lat=lat,\n",
    "        lon=lon,\n",
    "        mode='markers',\n",
    "        marker=Marker(\n",
    "            size=17,\n",
    "            color='rgb(255, 0, 0)',\n",
    "            opacity=0.7\n",
    "        ),\n",
    "        text=name,\n",
    "        hoverinfo='text'\n",
    "    ),\n",
    "    Scattermapbox(\n",
    "        lat=lat,\n",
    "        lon=lon,\n",
    "        mode='markers',\n",
    "        marker=Marker(\n",
    "            size=8,\n",
    "            color='rgb(242, 177, 172)',\n",
    "            opacity=0.7\n",
    "        ),\n",
    "        hoverinfo='none'\n",
    "    )]\n",
    ")\n",
    "        \n",
    "layout = Layout(\n",
    "    title='INTERACTIVE MAP SHOWING LOCATION OF REVIEWED HOTELS.',\n",
    "    autosize=True,\n",
    "    hovermode='closest',\n",
    "    showlegend=False,\n",
    "    mapbox=dict(\n",
    "        accesstoken=mapbox_access_token,\n",
    "        bearing=0,\n",
    "        center=dict(\n",
    "            lat=38,\n",
    "            lon=-94\n",
    "        ),\n",
    "        pitch=0,\n",
    "        zoom=3,\n",
    "        style='light'\n",
    "    ),\n",
    ")\n",
    "\n",
    "fig = dict(data=data, layout=layout)\n",
    "\n",
    "py.iplot(fig, filename='hotel-reviews-map')"
   ]
  }
 ],
 "metadata": {
  "kernelspec": {
   "display_name": "Python 3",
   "language": "python",
   "name": "python3"
  },
  "language_info": {
   "codemirror_mode": {
    "name": "ipython",
    "version": 3
   },
   "file_extension": ".py",
   "mimetype": "text/x-python",
   "name": "python",
   "nbconvert_exporter": "python",
   "pygments_lexer": "ipython3",
   "version": "3.6.3"
  }
 },
 "nbformat": 4,
 "nbformat_minor": 2
}
